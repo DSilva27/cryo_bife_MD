{
 "cells": [
  {
   "cell_type": "markdown",
   "id": "0b1dbe22",
   "metadata": {},
   "source": [
    "### Test1 : Bernoulli example"
   ]
  },
  {
   "cell_type": "code",
   "execution_count": null,
   "id": "afed5c17",
   "metadata": {},
   "outputs": [],
   "source": [
    "#Install cmdstanpy\n",
    "#see the docs: https://mc-stan.org/cmdstanpy/installation.html\n",
    "\n",
    "import cmdstanpy\n",
    "cmdstanpy.install_cmdstan()"
   ]
  },
  {
   "cell_type": "code",
   "execution_count": null,
   "id": "f7ae62a9",
   "metadata": {},
   "outputs": [],
   "source": [
    "#Bernoulli example\n",
    "#see the docs: https://mc-stan.org/cmdstanpy/examples/MCMC%20Sampling.html\n",
    "\"\"\"\n",
    "   \n",
    "   Here you're loading the program (a.k.a model) \"bernoulli.stan\" from the \n",
    "   examples/bernoulli directory. You can change the structure \n",
    "   'os.path.join(cmdstan_path(), 'examples', 'bernoulli', 'bernoulli.stan')'\n",
    "   for 'os.path.join(cmdstan_path(), 'examples/bernoulli/bernoulli.stan')' as well.\n",
    "   \n",
    "\"\"\"\n",
    "import os\n",
    "from cmdstanpy import cmdstan_path, CmdStanModel\n",
    "stan_file = os.path.join(cmdstan_path(), 'examples', 'bernoulli', 'bernoulli.stan') "
   ]
  },
  {
   "cell_type": "code",
   "execution_count": null,
   "id": "1210d330",
   "metadata": {},
   "outputs": [],
   "source": [
    "### Set up the model to be used.\n",
    "\n",
    "model = CmdStanModel(stan_file=stan_file)\n",
    "print(model)\n",
    "print(model.exe_info())"
   ]
  },
  {
   "cell_type": "code",
   "execution_count": null,
   "id": "c596e5d6",
   "metadata": {},
   "outputs": [],
   "source": [
    "\"\"\"\n",
    "    As you can read in the docs, STAN works with json data files. Nevertheless, it is not \n",
    "    necessary for you to convert your data to json; STAN do it for you.\n",
    "    In the section 2 below, you'll see I give a numpy matrix to the model as data, and STAN \n",
    "    is ok with that.\n",
    "\n",
    "\"\"\"\n",
    "data_file = os.path.join(cmdstan_path(), 'examples', 'bernoulli', 'bernoulli.data.json')\n",
    "fit = model.sample(data=data_file)\n",
    "print(fit)"
   ]
  },
  {
   "cell_type": "code",
   "execution_count": null,
   "id": "12d450b1",
   "metadata": {},
   "outputs": [],
   "source": [
    "### This is a sumary of the outcome after running the model with the data.\n",
    "### It shows the mean Logposterior, the infered parameters, and some other data.\n",
    "fit.summary()"
   ]
  },
  {
   "cell_type": "markdown",
   "id": "7136866b",
   "metadata": {},
   "source": [
    "### Part 2: cryo-BIFE routine "
   ]
  },
  {
   "cell_type": "code",
   "execution_count": 1,
   "id": "fc7f78fd",
   "metadata": {},
   "outputs": [],
   "source": [
    "import os\n",
    "import cmdstanpy\n",
    "import numpy as np\n",
    "from tqdm import tqdm\n",
    "import matplotlib.pyplot as plt\n",
    "from cmdstanpy import CmdStanModel"
   ]
  },
  {
   "cell_type": "code",
   "execution_count": 2,
   "id": "a7d80bd3",
   "metadata": {},
   "outputs": [
    {
     "name": "stdout",
     "output_type": "stream",
     "text": [
      "Enabling notebook extension jupyter-js-widgets/extension...\r\n",
      "      - Validating: \u001b[32mOK\u001b[0m\r\n"
     ]
    }
   ],
   "source": [
    "#enable witgets to tqdm pakage works well.\n",
    "!jupyter nbextension enable --py widgetsnbextension"
   ]
  },
  {
   "cell_type": "code",
   "execution_count": 3,
   "id": "966dc774",
   "metadata": {
    "scrolled": true
   },
   "outputs": [
    {
     "name": "stderr",
     "output_type": "stream",
     "text": [
      "INFO:cmdstanpy:found newer exe file, not recompiling\n"
     ]
    }
   ],
   "source": [
    "### Loading the cryo-bife.stan program.\n",
    "my_stanfile = os.path.join('cryoBIFE/cryoBIFE/stan/cryo-bife.stan')\n",
    "my_model = CmdStanModel(stan_file=my_stanfile, cpp_options={'STAN_THREADS':'true'})"
   ]
  },
  {
   "cell_type": "markdown",
   "id": "4cb3e127",
   "metadata": {},
   "source": [
    "### Resultados Hexapeptido "
   ]
  },
  {
   "cell_type": "code",
   "execution_count": 4,
   "id": "75f46b19",
   "metadata": {},
   "outputs": [
    {
     "name": "stderr",
     "output_type": "stream",
     "text": [
      "INFO:cmdstanpy:CmdStan start procesing\n"
     ]
    },
    {
     "data": {
      "application/vnd.jupyter.widget-view+json": {
       "model_id": "6589edd7bf814f8f839a48fb30af35bd",
       "version_major": 2,
       "version_minor": 0
      },
      "text/plain": [
       "chain 1 |          | 00:00 Status"
      ]
     },
     "metadata": {},
     "output_type": "display_data"
    },
    {
     "data": {
      "application/vnd.jupyter.widget-view+json": {
       "model_id": "259b4e2bfdd04615852d2b30a35bb3cd",
       "version_major": 2,
       "version_minor": 0
      },
      "text/plain": [
       "chain 2 |          | 00:00 Status"
      ]
     },
     "metadata": {},
     "output_type": "display_data"
    },
    {
     "data": {
      "application/vnd.jupyter.widget-view+json": {
       "model_id": "d590580cc31a4d4a9c56998aed89939f",
       "version_major": 2,
       "version_minor": 0
      },
      "text/plain": [
       "chain 3 |          | 00:00 Status"
      ]
     },
     "metadata": {},
     "output_type": "display_data"
    },
    {
     "data": {
      "application/vnd.jupyter.widget-view+json": {
       "model_id": "237997363c30444691cc8c5f2a17fe06",
       "version_major": 2,
       "version_minor": 0
      },
      "text/plain": [
       "chain 4 |          | 00:00 Status"
      ]
     },
     "metadata": {},
     "output_type": "display_data"
    },
    {
     "name": "stdout",
     "output_type": "stream",
     "text": [
      "                                                                                                                                                                                                                                                                                                                                "
     ]
    },
    {
     "name": "stderr",
     "output_type": "stream",
     "text": [
      "INFO:cmdstanpy:CmdStan done processing.\n"
     ]
    },
    {
     "name": "stdout",
     "output_type": "stream",
     "text": [
      "\n"
     ]
    },
    {
     "data": {
      "image/png": "[encoded data removed]",
      "text/plain": [
       "<Figure size 468x432 with 1 Axes>"
      ]
     },
     "metadata": {
      "needs_background": "light"
     },
     "output_type": "display_data"
    }
   ],
   "source": [
    "### Loading the matrix probability Pwm (or BioEM matrix prob) as data. \n",
    "\n",
    "\"\"\"\n",
    "\n",
    "   The model will infer the free energy values, which are saved in the G_stan numpy array.\n",
    "   Notice that: \n",
    "   N: number of images ; M: number of models in the structural path; Pmat=Pwm\n",
    "\n",
    "\"\"\"\n",
    "Pmat = np.loadtxt('/home/jgiraldob/path_optimization_github/Discrete_hexapeptide/Pmw-b1')\n",
    "cryobife_data = {\"M\": Pmat.shape[1],\n",
    "                 \"N\": Pmat.shape[0],\n",
    "                \"Pmat\": Pmat}\n",
    "\n",
    "# run CmdStan's sample method, returns object `CmdStanMCMC`\n",
    "fit = my_model.sample(data=cryobife_data)\n",
    "LogPost_Stan = []\n",
    "LogPost_Stan.append(fit.summary().to_numpy()[0,0])\n",
    "\n",
    "stan_resume_array = fit.summary().to_numpy()[1:Pmat.shape[1],0]\n",
    "G_stan = np.zeros((Pmat.shape[1]))\n",
    "\n",
    "for i in range(len(stan_resume_array)):\n",
    "    G_stan[i]=stan_resume_array[i]\n",
    "G_stan\n",
    "plt.figure(figsize = (6.5,6.))\n",
    "plt.title('Stan results - Estimated FE values',fontsize=17)\n",
    "plt.plot([i/Pmat.shape[1] for i in range(Pmat.shape[1])],G_stan - np.min(G_stan),label='STAN')\n",
    "#plt.plot([i for i in range(Pmat.shape[1])],true_fe_black-np.min(true_fe_black),label='True')\n",
    "plt.xlabel('Nodes', fontsize=15)\n",
    "plt.ylabel('Free energy', fontsize=15)\n",
    "plt.legend()\n",
    "plt.show()"
   ]
  },
  {
   "cell_type": "code",
   "execution_count": 5,
   "id": "140660c6",
   "metadata": {},
   "outputs": [],
   "source": [
    "### Comparison betwen STAN routine and MCMC from cryo-BIFE paper for the hexapeptide system.\n",
    "\n",
    "Gs_MCMC = np.loadtxt('/home/jgiraldob/path_optimization_github/Discrete_hexapeptide/Gs')[:,2:]\n",
    "Gs_Mean = np.mean(Gs_MCMC,axis=0)\n",
    "G_Ave = np.loadtxt('/home/jgiraldob/path_optimization_github/Discrete_hexapeptide/AveG')"
   ]
  },
  {
   "cell_type": "code",
   "execution_count": 7,
   "id": "26d07e04",
   "metadata": {},
   "outputs": [
    {
     "data": {
      "image/png": "[encoded data removed]",
      "text/plain": [
       "<Figure size 468x432 with 1 Axes>"
      ]
     },
     "metadata": {
      "needs_background": "light"
     },
     "output_type": "display_data"
    }
   ],
   "source": [
    "plt.figure(figsize=(6.5,6.))\n",
    "plt.plot([i/Pmat.shape[1] for i in range(Pmat.shape[1])],G_Ave-np.min(G_Ave),marker='o',label='AveG')\n",
    "plt.plot([i/Pmat.shape[1] for i in range(Pmat.shape[1])],G_stan - np.min(G_stan),label='STAN', linewidth=4)\n",
    "plt.plot([i/Pmat.shape[1] for i in range(Pmat.shape[1])],Gs_Mean-np.min(Gs_Mean),label='G Mean.-MCMC')\n",
    "plt.legend()\n",
    "plt.show()"
   ]
  },
  {
   "cell_type": "code",
   "execution_count": null,
   "id": "dba3389a",
   "metadata": {},
   "outputs": [],
   "source": []
  }
 ],
 "metadata": {
  "kernelspec": {
   "display_name": "Python 3 (ipykernel)",
   "language": "python",
   "name": "python3"
  },
  "language_info": {
   "codemirror_mode": {
    "name": "ipython",
    "version": 3
   },
   "file_extension": ".py",
   "mimetype": "text/x-python",
   "name": "python",
   "nbconvert_exporter": "python",
   "pygments_lexer": "ipython3",
   "version": "3.8.10"
  }
 },
 "nbformat": 4,
 "nbformat_minor": 5
}
